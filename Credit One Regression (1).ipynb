{
 "cells": [
  {
   "cell_type": "code",
   "execution_count": 432,
   "id": "c2bfe985",
   "metadata": {},
   "outputs": [],
   "source": [
    "#imports\n",
    "import numpy as np\n",
    "import pandas as pd\n",
    "import scipy\n",
    "from math import sqrt\n",
    "import matplotlib.pyplot as plt\n",
    "\n",
    "#estimators\n",
    "from sklearn.ensemble import RandomForestRegressor\n",
    "from sklearn.linear_model import LinearRegression\n",
    "from sklearn.svm import SVR\n",
    "from sklearn import linear_model\n",
    "\n",
    "#model metrics\n",
    "from sklearn.metrics import mean_squared_error\n",
    "from sklearn.metrics import r2_score\n",
    "from sklearn.model_selection import cross_val_score\n",
    "from sklearn.model_selection import train_test_split"
   ]
  },
  {
   "cell_type": "code",
   "execution_count": 433,
   "id": "d62708c7",
   "metadata": {},
   "outputs": [],
   "source": [
    "from sklearn.metrics import accuracy_score, classification_report\n",
    "from sklearn.ensemble import RandomForestClassifier, GradientBoostingClassifier\n",
    "from sklearn.tree import DecisionTreeClassifier"
   ]
  },
  {
   "cell_type": "code",
   "execution_count": 434,
   "id": "4ecc1468",
   "metadata": {},
   "outputs": [],
   "source": [
    "credit = pd.read_csv('credit2.csv')"
   ]
  },
  {
   "cell_type": "code",
   "execution_count": 435,
   "id": "69f71ffe",
   "metadata": {},
   "outputs": [
    {
     "data": {
      "text/html": [
       "<div>\n",
       "<style scoped>\n",
       "    .dataframe tbody tr th:only-of-type {\n",
       "        vertical-align: middle;\n",
       "    }\n",
       "\n",
       "    .dataframe tbody tr th {\n",
       "        vertical-align: top;\n",
       "    }\n",
       "\n",
       "    .dataframe thead th {\n",
       "        text-align: right;\n",
       "    }\n",
       "</style>\n",
       "<table border=\"1\" class=\"dataframe\">\n",
       "  <thead>\n",
       "    <tr style=\"text-align: right;\">\n",
       "      <th></th>\n",
       "      <th>Unnamed: 0</th>\n",
       "      <th>Limit_Bal</th>\n",
       "      <th>Marriage</th>\n",
       "      <th>Age</th>\n",
       "      <th>Status_Sept</th>\n",
       "      <th>Status_Aug</th>\n",
       "      <th>Status_Jul</th>\n",
       "      <th>Status_Jun</th>\n",
       "      <th>Status_May</th>\n",
       "      <th>Status_Apr</th>\n",
       "      <th>...</th>\n",
       "      <th>Sex_female</th>\n",
       "      <th>Sex_male</th>\n",
       "      <th>Education_graduate school</th>\n",
       "      <th>Education_high school</th>\n",
       "      <th>Education_other</th>\n",
       "      <th>Education_university</th>\n",
       "      <th>Default_Status_default</th>\n",
       "      <th>Default_Status_not default</th>\n",
       "      <th>Age_Decade</th>\n",
       "      <th>Limit_Bins</th>\n",
       "    </tr>\n",
       "  </thead>\n",
       "  <tbody>\n",
       "    <tr>\n",
       "      <th>0</th>\n",
       "      <td>0</td>\n",
       "      <td>20000</td>\n",
       "      <td>1</td>\n",
       "      <td>24</td>\n",
       "      <td>2</td>\n",
       "      <td>2</td>\n",
       "      <td>-1</td>\n",
       "      <td>-1</td>\n",
       "      <td>-2</td>\n",
       "      <td>-2</td>\n",
       "      <td>...</td>\n",
       "      <td>1</td>\n",
       "      <td>0</td>\n",
       "      <td>0</td>\n",
       "      <td>0</td>\n",
       "      <td>0</td>\n",
       "      <td>1</td>\n",
       "      <td>1</td>\n",
       "      <td>0</td>\n",
       "      <td>20</td>\n",
       "      <td>10-50K</td>\n",
       "    </tr>\n",
       "    <tr>\n",
       "      <th>1</th>\n",
       "      <td>1</td>\n",
       "      <td>120000</td>\n",
       "      <td>2</td>\n",
       "      <td>26</td>\n",
       "      <td>-1</td>\n",
       "      <td>2</td>\n",
       "      <td>0</td>\n",
       "      <td>0</td>\n",
       "      <td>0</td>\n",
       "      <td>2</td>\n",
       "      <td>...</td>\n",
       "      <td>1</td>\n",
       "      <td>0</td>\n",
       "      <td>0</td>\n",
       "      <td>0</td>\n",
       "      <td>0</td>\n",
       "      <td>1</td>\n",
       "      <td>1</td>\n",
       "      <td>0</td>\n",
       "      <td>20</td>\n",
       "      <td>100-150K</td>\n",
       "    </tr>\n",
       "    <tr>\n",
       "      <th>2</th>\n",
       "      <td>2</td>\n",
       "      <td>90000</td>\n",
       "      <td>2</td>\n",
       "      <td>34</td>\n",
       "      <td>0</td>\n",
       "      <td>0</td>\n",
       "      <td>0</td>\n",
       "      <td>0</td>\n",
       "      <td>0</td>\n",
       "      <td>0</td>\n",
       "      <td>...</td>\n",
       "      <td>1</td>\n",
       "      <td>0</td>\n",
       "      <td>0</td>\n",
       "      <td>0</td>\n",
       "      <td>0</td>\n",
       "      <td>1</td>\n",
       "      <td>0</td>\n",
       "      <td>1</td>\n",
       "      <td>30</td>\n",
       "      <td>50-100K</td>\n",
       "    </tr>\n",
       "    <tr>\n",
       "      <th>3</th>\n",
       "      <td>3</td>\n",
       "      <td>50000</td>\n",
       "      <td>1</td>\n",
       "      <td>37</td>\n",
       "      <td>0</td>\n",
       "      <td>0</td>\n",
       "      <td>0</td>\n",
       "      <td>0</td>\n",
       "      <td>0</td>\n",
       "      <td>0</td>\n",
       "      <td>...</td>\n",
       "      <td>1</td>\n",
       "      <td>0</td>\n",
       "      <td>0</td>\n",
       "      <td>0</td>\n",
       "      <td>0</td>\n",
       "      <td>1</td>\n",
       "      <td>0</td>\n",
       "      <td>1</td>\n",
       "      <td>30</td>\n",
       "      <td>10-50K</td>\n",
       "    </tr>\n",
       "    <tr>\n",
       "      <th>4</th>\n",
       "      <td>4</td>\n",
       "      <td>50000</td>\n",
       "      <td>1</td>\n",
       "      <td>57</td>\n",
       "      <td>-1</td>\n",
       "      <td>0</td>\n",
       "      <td>-1</td>\n",
       "      <td>0</td>\n",
       "      <td>0</td>\n",
       "      <td>0</td>\n",
       "      <td>...</td>\n",
       "      <td>0</td>\n",
       "      <td>1</td>\n",
       "      <td>0</td>\n",
       "      <td>0</td>\n",
       "      <td>0</td>\n",
       "      <td>1</td>\n",
       "      <td>0</td>\n",
       "      <td>1</td>\n",
       "      <td>50</td>\n",
       "      <td>10-50K</td>\n",
       "    </tr>\n",
       "  </tbody>\n",
       "</table>\n",
       "<p>5 rows × 32 columns</p>\n",
       "</div>"
      ],
      "text/plain": [
       "   Unnamed: 0  Limit_Bal  Marriage  Age  Status_Sept  Status_Aug  Status_Jul  \\\n",
       "0           0      20000         1   24            2           2          -1   \n",
       "1           1     120000         2   26           -1           2           0   \n",
       "2           2      90000         2   34            0           0           0   \n",
       "3           3      50000         1   37            0           0           0   \n",
       "4           4      50000         1   57           -1           0          -1   \n",
       "\n",
       "   Status_Jun  Status_May  Status_Apr  ...  Sex_female  Sex_male  \\\n",
       "0          -1          -2          -2  ...           1         0   \n",
       "1           0           0           2  ...           1         0   \n",
       "2           0           0           0  ...           1         0   \n",
       "3           0           0           0  ...           1         0   \n",
       "4           0           0           0  ...           0         1   \n",
       "\n",
       "   Education_graduate school  Education_high school  Education_other  \\\n",
       "0                          0                      0                0   \n",
       "1                          0                      0                0   \n",
       "2                          0                      0                0   \n",
       "3                          0                      0                0   \n",
       "4                          0                      0                0   \n",
       "\n",
       "   Education_university  Default_Status_default  Default_Status_not default  \\\n",
       "0                     1                       1                           0   \n",
       "1                     1                       1                           0   \n",
       "2                     1                       0                           1   \n",
       "3                     1                       0                           1   \n",
       "4                     1                       0                           1   \n",
       "\n",
       "   Age_Decade  Limit_Bins  \n",
       "0          20      10-50K  \n",
       "1          20    100-150K  \n",
       "2          30     50-100K  \n",
       "3          30      10-50K  \n",
       "4          50      10-50K  \n",
       "\n",
       "[5 rows x 32 columns]"
      ]
     },
     "execution_count": 435,
     "metadata": {},
     "output_type": "execute_result"
    }
   ],
   "source": [
    "credit.head()"
   ]
  },
  {
   "cell_type": "code",
   "execution_count": 436,
   "id": "56699c77",
   "metadata": {},
   "outputs": [],
   "source": [
    "credit.drop('Unnamed: 0', axis=1, inplace=True)"
   ]
  },
  {
   "cell_type": "code",
   "execution_count": 437,
   "id": "2e991e81",
   "metadata": {},
   "outputs": [
    {
     "name": "stdout",
     "output_type": "stream",
     "text": [
      "<class 'pandas.core.frame.DataFrame'>\n",
      "RangeIndex: 2396 entries, 0 to 2395\n",
      "Data columns (total 31 columns):\n",
      " #   Column                      Non-Null Count  Dtype \n",
      "---  ------                      --------------  ----- \n",
      " 0   Limit_Bal                   2396 non-null   int64 \n",
      " 1   Marriage                    2396 non-null   int64 \n",
      " 2   Age                         2396 non-null   int64 \n",
      " 3   Status_Sept                 2396 non-null   int64 \n",
      " 4   Status_Aug                  2396 non-null   int64 \n",
      " 5   Status_Jul                  2396 non-null   int64 \n",
      " 6   Status_Jun                  2396 non-null   int64 \n",
      " 7   Status_May                  2396 non-null   int64 \n",
      " 8   Status_Apr                  2396 non-null   int64 \n",
      " 9   Bill_Sept                   2396 non-null   int64 \n",
      " 10  Bill_Aug                    2396 non-null   int64 \n",
      " 11  Bill_Jul                    2396 non-null   int64 \n",
      " 12  Bill_Jun                    2396 non-null   int64 \n",
      " 13  Bill_May                    2396 non-null   int64 \n",
      " 14  Bill_Apr                    2396 non-null   int64 \n",
      " 15  Pay_Sept                    2396 non-null   int64 \n",
      " 16  Pay_Aug                     2396 non-null   int64 \n",
      " 17  Pay_Jul                     2396 non-null   int64 \n",
      " 18  Pay_Jun                     2396 non-null   int64 \n",
      " 19  Pay_May                     2396 non-null   int64 \n",
      " 20  Pay_Apr                     2396 non-null   int64 \n",
      " 21  Sex_female                  2396 non-null   int64 \n",
      " 22  Sex_male                    2396 non-null   int64 \n",
      " 23  Education_graduate school   2396 non-null   int64 \n",
      " 24  Education_high school       2396 non-null   int64 \n",
      " 25  Education_other             2396 non-null   int64 \n",
      " 26  Education_university        2396 non-null   int64 \n",
      " 27  Default_Status_default      2396 non-null   int64 \n",
      " 28  Default_Status_not default  2396 non-null   int64 \n",
      " 29  Age_Decade                  2396 non-null   int64 \n",
      " 30  Limit_Bins                  2395 non-null   object\n",
      "dtypes: int64(30), object(1)\n",
      "memory usage: 580.4+ KB\n"
     ]
    }
   ],
   "source": [
    "credit.info()"
   ]
  },
  {
   "cell_type": "code",
   "execution_count": 438,
   "id": "8d5b8fc8",
   "metadata": {},
   "outputs": [],
   "source": [
    "credit[\"Age_Decade\"] = credit[\"Age_Decade\"].astype(\"category\")"
   ]
  },
  {
   "cell_type": "code",
   "execution_count": 439,
   "id": "c2f7db88",
   "metadata": {},
   "outputs": [
    {
     "name": "stdout",
     "output_type": "stream",
     "text": [
      "<class 'pandas.core.frame.DataFrame'>\n",
      "RangeIndex: 2396 entries, 0 to 2395\n",
      "Data columns (total 31 columns):\n",
      " #   Column                      Non-Null Count  Dtype   \n",
      "---  ------                      --------------  -----   \n",
      " 0   Limit_Bal                   2396 non-null   int64   \n",
      " 1   Marriage                    2396 non-null   int64   \n",
      " 2   Age                         2396 non-null   int64   \n",
      " 3   Status_Sept                 2396 non-null   int64   \n",
      " 4   Status_Aug                  2396 non-null   int64   \n",
      " 5   Status_Jul                  2396 non-null   int64   \n",
      " 6   Status_Jun                  2396 non-null   int64   \n",
      " 7   Status_May                  2396 non-null   int64   \n",
      " 8   Status_Apr                  2396 non-null   int64   \n",
      " 9   Bill_Sept                   2396 non-null   int64   \n",
      " 10  Bill_Aug                    2396 non-null   int64   \n",
      " 11  Bill_Jul                    2396 non-null   int64   \n",
      " 12  Bill_Jun                    2396 non-null   int64   \n",
      " 13  Bill_May                    2396 non-null   int64   \n",
      " 14  Bill_Apr                    2396 non-null   int64   \n",
      " 15  Pay_Sept                    2396 non-null   int64   \n",
      " 16  Pay_Aug                     2396 non-null   int64   \n",
      " 17  Pay_Jul                     2396 non-null   int64   \n",
      " 18  Pay_Jun                     2396 non-null   int64   \n",
      " 19  Pay_May                     2396 non-null   int64   \n",
      " 20  Pay_Apr                     2396 non-null   int64   \n",
      " 21  Sex_female                  2396 non-null   int64   \n",
      " 22  Sex_male                    2396 non-null   int64   \n",
      " 23  Education_graduate school   2396 non-null   int64   \n",
      " 24  Education_high school       2396 non-null   int64   \n",
      " 25  Education_other             2396 non-null   int64   \n",
      " 26  Education_university        2396 non-null   int64   \n",
      " 27  Default_Status_default      2396 non-null   int64   \n",
      " 28  Default_Status_not default  2396 non-null   int64   \n",
      " 29  Age_Decade                  2396 non-null   category\n",
      " 30  Limit_Bins                  2395 non-null   object  \n",
      "dtypes: category(1), int64(29), object(1)\n",
      "memory usage: 564.2+ KB\n"
     ]
    }
   ],
   "source": [
    "credit.info()"
   ]
  },
  {
   "cell_type": "code",
   "execution_count": 440,
   "id": "dcb9cab7",
   "metadata": {},
   "outputs": [],
   "source": [
    "credit[\"Limit_Bins\"] = credit[\"Limit_Bins\"].astype(\"category\")"
   ]
  },
  {
   "cell_type": "code",
   "execution_count": 441,
   "id": "38e8c90c",
   "metadata": {},
   "outputs": [
    {
     "name": "stdout",
     "output_type": "stream",
     "text": [
      "<class 'pandas.core.frame.DataFrame'>\n",
      "RangeIndex: 2396 entries, 0 to 2395\n",
      "Data columns (total 31 columns):\n",
      " #   Column                      Non-Null Count  Dtype   \n",
      "---  ------                      --------------  -----   \n",
      " 0   Limit_Bal                   2396 non-null   int64   \n",
      " 1   Marriage                    2396 non-null   int64   \n",
      " 2   Age                         2396 non-null   int64   \n",
      " 3   Status_Sept                 2396 non-null   int64   \n",
      " 4   Status_Aug                  2396 non-null   int64   \n",
      " 5   Status_Jul                  2396 non-null   int64   \n",
      " 6   Status_Jun                  2396 non-null   int64   \n",
      " 7   Status_May                  2396 non-null   int64   \n",
      " 8   Status_Apr                  2396 non-null   int64   \n",
      " 9   Bill_Sept                   2396 non-null   int64   \n",
      " 10  Bill_Aug                    2396 non-null   int64   \n",
      " 11  Bill_Jul                    2396 non-null   int64   \n",
      " 12  Bill_Jun                    2396 non-null   int64   \n",
      " 13  Bill_May                    2396 non-null   int64   \n",
      " 14  Bill_Apr                    2396 non-null   int64   \n",
      " 15  Pay_Sept                    2396 non-null   int64   \n",
      " 16  Pay_Aug                     2396 non-null   int64   \n",
      " 17  Pay_Jul                     2396 non-null   int64   \n",
      " 18  Pay_Jun                     2396 non-null   int64   \n",
      " 19  Pay_May                     2396 non-null   int64   \n",
      " 20  Pay_Apr                     2396 non-null   int64   \n",
      " 21  Sex_female                  2396 non-null   int64   \n",
      " 22  Sex_male                    2396 non-null   int64   \n",
      " 23  Education_graduate school   2396 non-null   int64   \n",
      " 24  Education_high school       2396 non-null   int64   \n",
      " 25  Education_other             2396 non-null   int64   \n",
      " 26  Education_university        2396 non-null   int64   \n",
      " 27  Default_Status_default      2396 non-null   int64   \n",
      " 28  Default_Status_not default  2396 non-null   int64   \n",
      " 29  Age_Decade                  2396 non-null   category\n",
      " 30  Limit_Bins                  2395 non-null   category\n",
      "dtypes: category(2), int64(29)\n",
      "memory usage: 548.2 KB\n"
     ]
    }
   ],
   "source": [
    "credit.info()"
   ]
  },
  {
   "cell_type": "code",
   "execution_count": 442,
   "id": "ce345638",
   "metadata": {},
   "outputs": [
    {
     "name": "stdout",
     "output_type": "stream",
     "text": [
      "Summary of feature sample\n"
     ]
    },
    {
     "data": {
      "text/html": [
       "<div>\n",
       "<style scoped>\n",
       "    .dataframe tbody tr th:only-of-type {\n",
       "        vertical-align: middle;\n",
       "    }\n",
       "\n",
       "    .dataframe tbody tr th {\n",
       "        vertical-align: top;\n",
       "    }\n",
       "\n",
       "    .dataframe thead th {\n",
       "        text-align: right;\n",
       "    }\n",
       "</style>\n",
       "<table border=\"1\" class=\"dataframe\">\n",
       "  <thead>\n",
       "    <tr style=\"text-align: right;\">\n",
       "      <th></th>\n",
       "      <th>Marriage</th>\n",
       "      <th>Sex_female</th>\n",
       "      <th>Sex_male</th>\n",
       "      <th>Education_graduate school</th>\n",
       "      <th>Education_high school</th>\n",
       "      <th>Education_other</th>\n",
       "      <th>Education_university</th>\n",
       "      <th>Default_Status_default</th>\n",
       "    </tr>\n",
       "  </thead>\n",
       "  <tbody>\n",
       "    <tr>\n",
       "      <th>0</th>\n",
       "      <td>1</td>\n",
       "      <td>1</td>\n",
       "      <td>0</td>\n",
       "      <td>0</td>\n",
       "      <td>0</td>\n",
       "      <td>0</td>\n",
       "      <td>1</td>\n",
       "      <td>1</td>\n",
       "    </tr>\n",
       "    <tr>\n",
       "      <th>1</th>\n",
       "      <td>2</td>\n",
       "      <td>1</td>\n",
       "      <td>0</td>\n",
       "      <td>0</td>\n",
       "      <td>0</td>\n",
       "      <td>0</td>\n",
       "      <td>1</td>\n",
       "      <td>1</td>\n",
       "    </tr>\n",
       "    <tr>\n",
       "      <th>2</th>\n",
       "      <td>2</td>\n",
       "      <td>1</td>\n",
       "      <td>0</td>\n",
       "      <td>0</td>\n",
       "      <td>0</td>\n",
       "      <td>0</td>\n",
       "      <td>1</td>\n",
       "      <td>0</td>\n",
       "    </tr>\n",
       "    <tr>\n",
       "      <th>3</th>\n",
       "      <td>1</td>\n",
       "      <td>1</td>\n",
       "      <td>0</td>\n",
       "      <td>0</td>\n",
       "      <td>0</td>\n",
       "      <td>0</td>\n",
       "      <td>1</td>\n",
       "      <td>0</td>\n",
       "    </tr>\n",
       "    <tr>\n",
       "      <th>4</th>\n",
       "      <td>1</td>\n",
       "      <td>0</td>\n",
       "      <td>1</td>\n",
       "      <td>0</td>\n",
       "      <td>0</td>\n",
       "      <td>0</td>\n",
       "      <td>1</td>\n",
       "      <td>0</td>\n",
       "    </tr>\n",
       "  </tbody>\n",
       "</table>\n",
       "</div>"
      ],
      "text/plain": [
       "   Marriage  Sex_female  Sex_male  Education_graduate school  \\\n",
       "0         1           1         0                          0   \n",
       "1         2           1         0                          0   \n",
       "2         2           1         0                          0   \n",
       "3         1           1         0                          0   \n",
       "4         1           0         1                          0   \n",
       "\n",
       "   Education_high school  Education_other  Education_university  \\\n",
       "0                      0                0                     1   \n",
       "1                      0                0                     1   \n",
       "2                      0                0                     1   \n",
       "3                      0                0                     1   \n",
       "4                      0                0                     1   \n",
       "\n",
       "   Default_Status_default  \n",
       "0                       1  \n",
       "1                       1  \n",
       "2                       0  \n",
       "3                       0  \n",
       "4                       0  "
      ]
     },
     "execution_count": 442,
     "metadata": {},
     "output_type": "execute_result"
    }
   ],
   "source": [
    "X = credit.iloc[:, np.r_[1:2, 21:28]]\n",
    "print('Summary of feature sample')\n",
    "X.head()"
   ]
  },
  {
   "cell_type": "code",
   "execution_count": 443,
   "id": "193ea1b8",
   "metadata": {},
   "outputs": [],
   "source": [
    "y = credit['Limit_Bal']"
   ]
  },
  {
   "cell_type": "code",
   "execution_count": 444,
   "id": "c7fc3bd9",
   "metadata": {},
   "outputs": [
    {
     "data": {
      "text/plain": [
       "0        20000\n",
       "1       120000\n",
       "2        90000\n",
       "3        50000\n",
       "4        50000\n",
       "         ...  \n",
       "2391     50000\n",
       "2392     20000\n",
       "2393    130000\n",
       "2394    110000\n",
       "2395    200000\n",
       "Name: Limit_Bal, Length: 2396, dtype: int64"
      ]
     },
     "execution_count": 444,
     "metadata": {},
     "output_type": "execute_result"
    }
   ],
   "source": [
    "y"
   ]
  },
  {
   "cell_type": "code",
   "execution_count": 445,
   "id": "395a7e63",
   "metadata": {},
   "outputs": [],
   "source": [
    "model = LinearRegression()"
   ]
  },
  {
   "cell_type": "code",
   "execution_count": 446,
   "id": "66f4bcfd",
   "metadata": {},
   "outputs": [
    {
     "name": "stdout",
     "output_type": "stream",
     "text": [
      "[0.05603549 0.09127826 0.11773951]\n"
     ]
    }
   ],
   "source": [
    "print(cross_val_score(model, X, y, cv=3)) "
   ]
  },
  {
   "cell_type": "code",
   "execution_count": 447,
   "id": "3a171abb",
   "metadata": {},
   "outputs": [],
   "source": [
    "algosClass = []"
   ]
  },
  {
   "cell_type": "code",
   "execution_count": 448,
   "id": "5e5653aa",
   "metadata": {},
   "outputs": [],
   "source": [
    "algosClass.append(('Random Forest Regressor',RandomForestRegressor()))\n",
    "algosClass.append(('Linear Regression',LinearRegression()))\n",
    "algosClass.append(('Support Vector Regression',SVR()))"
   ]
  },
  {
   "cell_type": "code",
   "execution_count": 449,
   "id": "6eda2019",
   "metadata": {},
   "outputs": [],
   "source": [
    "#regression\n",
    "results = []\n",
    "names = []\n",
    "for name, model in algosClass:\n",
    "    result = cross_val_score(model, X,y, cv=3, scoring='r2')\n",
    "    names.append(name)\n",
    "    results.append(result)"
   ]
  },
  {
   "cell_type": "code",
   "execution_count": 450,
   "id": "f73b22fc",
   "metadata": {},
   "outputs": [
    {
     "name": "stdout",
     "output_type": "stream",
     "text": [
      "Random Forest Regressor 0.09005802926975237\n",
      "Linear Regression 0.08835108361636439\n",
      "Support Vector Regression -0.03982525498324615\n"
     ]
    }
   ],
   "source": [
    "for i in range(len(names)):\n",
    "    print(names[i],results[i].mean())"
   ]
  },
  {
   "cell_type": "markdown",
   "id": "e01cfed7",
   "metadata": {},
   "source": [
    "# CHANGING FEATURE SELECTION TO ENTIRE DATA FRAME"
   ]
  },
  {
   "cell_type": "code",
   "execution_count": 451,
   "id": "23864df9",
   "metadata": {},
   "outputs": [
    {
     "name": "stdout",
     "output_type": "stream",
     "text": [
      "Summary of feature sample\n"
     ]
    },
    {
     "data": {
      "text/html": [
       "<div>\n",
       "<style scoped>\n",
       "    .dataframe tbody tr th:only-of-type {\n",
       "        vertical-align: middle;\n",
       "    }\n",
       "\n",
       "    .dataframe tbody tr th {\n",
       "        vertical-align: top;\n",
       "    }\n",
       "\n",
       "    .dataframe thead th {\n",
       "        text-align: right;\n",
       "    }\n",
       "</style>\n",
       "<table border=\"1\" class=\"dataframe\">\n",
       "  <thead>\n",
       "    <tr style=\"text-align: right;\">\n",
       "      <th></th>\n",
       "      <th>Marriage</th>\n",
       "      <th>Age</th>\n",
       "      <th>Status_Sept</th>\n",
       "      <th>Status_Aug</th>\n",
       "      <th>Status_Jul</th>\n",
       "      <th>Status_Jun</th>\n",
       "      <th>Status_May</th>\n",
       "      <th>Status_Apr</th>\n",
       "      <th>Bill_Sept</th>\n",
       "      <th>Bill_Aug</th>\n",
       "      <th>...</th>\n",
       "      <th>Pay_Jun</th>\n",
       "      <th>Pay_May</th>\n",
       "      <th>Pay_Apr</th>\n",
       "      <th>Sex_female</th>\n",
       "      <th>Sex_male</th>\n",
       "      <th>Education_graduate school</th>\n",
       "      <th>Education_high school</th>\n",
       "      <th>Education_other</th>\n",
       "      <th>Education_university</th>\n",
       "      <th>Default_Status_default</th>\n",
       "    </tr>\n",
       "  </thead>\n",
       "  <tbody>\n",
       "    <tr>\n",
       "      <th>0</th>\n",
       "      <td>1</td>\n",
       "      <td>24</td>\n",
       "      <td>2</td>\n",
       "      <td>2</td>\n",
       "      <td>-1</td>\n",
       "      <td>-1</td>\n",
       "      <td>-2</td>\n",
       "      <td>-2</td>\n",
       "      <td>3913</td>\n",
       "      <td>3102</td>\n",
       "      <td>...</td>\n",
       "      <td>0</td>\n",
       "      <td>0</td>\n",
       "      <td>0</td>\n",
       "      <td>1</td>\n",
       "      <td>0</td>\n",
       "      <td>0</td>\n",
       "      <td>0</td>\n",
       "      <td>0</td>\n",
       "      <td>1</td>\n",
       "      <td>1</td>\n",
       "    </tr>\n",
       "    <tr>\n",
       "      <th>1</th>\n",
       "      <td>2</td>\n",
       "      <td>26</td>\n",
       "      <td>-1</td>\n",
       "      <td>2</td>\n",
       "      <td>0</td>\n",
       "      <td>0</td>\n",
       "      <td>0</td>\n",
       "      <td>2</td>\n",
       "      <td>2682</td>\n",
       "      <td>1725</td>\n",
       "      <td>...</td>\n",
       "      <td>1000</td>\n",
       "      <td>0</td>\n",
       "      <td>2000</td>\n",
       "      <td>1</td>\n",
       "      <td>0</td>\n",
       "      <td>0</td>\n",
       "      <td>0</td>\n",
       "      <td>0</td>\n",
       "      <td>1</td>\n",
       "      <td>1</td>\n",
       "    </tr>\n",
       "    <tr>\n",
       "      <th>2</th>\n",
       "      <td>2</td>\n",
       "      <td>34</td>\n",
       "      <td>0</td>\n",
       "      <td>0</td>\n",
       "      <td>0</td>\n",
       "      <td>0</td>\n",
       "      <td>0</td>\n",
       "      <td>0</td>\n",
       "      <td>29239</td>\n",
       "      <td>14027</td>\n",
       "      <td>...</td>\n",
       "      <td>1000</td>\n",
       "      <td>1000</td>\n",
       "      <td>5000</td>\n",
       "      <td>1</td>\n",
       "      <td>0</td>\n",
       "      <td>0</td>\n",
       "      <td>0</td>\n",
       "      <td>0</td>\n",
       "      <td>1</td>\n",
       "      <td>0</td>\n",
       "    </tr>\n",
       "    <tr>\n",
       "      <th>3</th>\n",
       "      <td>1</td>\n",
       "      <td>37</td>\n",
       "      <td>0</td>\n",
       "      <td>0</td>\n",
       "      <td>0</td>\n",
       "      <td>0</td>\n",
       "      <td>0</td>\n",
       "      <td>0</td>\n",
       "      <td>46990</td>\n",
       "      <td>48233</td>\n",
       "      <td>...</td>\n",
       "      <td>1100</td>\n",
       "      <td>1069</td>\n",
       "      <td>1000</td>\n",
       "      <td>1</td>\n",
       "      <td>0</td>\n",
       "      <td>0</td>\n",
       "      <td>0</td>\n",
       "      <td>0</td>\n",
       "      <td>1</td>\n",
       "      <td>0</td>\n",
       "    </tr>\n",
       "    <tr>\n",
       "      <th>4</th>\n",
       "      <td>1</td>\n",
       "      <td>57</td>\n",
       "      <td>-1</td>\n",
       "      <td>0</td>\n",
       "      <td>-1</td>\n",
       "      <td>0</td>\n",
       "      <td>0</td>\n",
       "      <td>0</td>\n",
       "      <td>8617</td>\n",
       "      <td>5670</td>\n",
       "      <td>...</td>\n",
       "      <td>9000</td>\n",
       "      <td>689</td>\n",
       "      <td>679</td>\n",
       "      <td>0</td>\n",
       "      <td>1</td>\n",
       "      <td>0</td>\n",
       "      <td>0</td>\n",
       "      <td>0</td>\n",
       "      <td>1</td>\n",
       "      <td>0</td>\n",
       "    </tr>\n",
       "  </tbody>\n",
       "</table>\n",
       "<p>5 rows × 27 columns</p>\n",
       "</div>"
      ],
      "text/plain": [
       "   Marriage  Age  Status_Sept  Status_Aug  Status_Jul  Status_Jun  Status_May  \\\n",
       "0         1   24            2           2          -1          -1          -2   \n",
       "1         2   26           -1           2           0           0           0   \n",
       "2         2   34            0           0           0           0           0   \n",
       "3         1   37            0           0           0           0           0   \n",
       "4         1   57           -1           0          -1           0           0   \n",
       "\n",
       "   Status_Apr  Bill_Sept  Bill_Aug  ...  Pay_Jun  Pay_May  Pay_Apr  \\\n",
       "0          -2       3913      3102  ...        0        0        0   \n",
       "1           2       2682      1725  ...     1000        0     2000   \n",
       "2           0      29239     14027  ...     1000     1000     5000   \n",
       "3           0      46990     48233  ...     1100     1069     1000   \n",
       "4           0       8617      5670  ...     9000      689      679   \n",
       "\n",
       "   Sex_female  Sex_male  Education_graduate school  Education_high school  \\\n",
       "0           1         0                          0                      0   \n",
       "1           1         0                          0                      0   \n",
       "2           1         0                          0                      0   \n",
       "3           1         0                          0                      0   \n",
       "4           0         1                          0                      0   \n",
       "\n",
       "   Education_other  Education_university  Default_Status_default  \n",
       "0                0                     1                       1  \n",
       "1                0                     1                       1  \n",
       "2                0                     1                       0  \n",
       "3                0                     1                       0  \n",
       "4                0                     1                       0  \n",
       "\n",
       "[5 rows x 27 columns]"
      ]
     },
     "execution_count": 451,
     "metadata": {},
     "output_type": "execute_result"
    }
   ],
   "source": [
    "X = credit.iloc[:, 1:28]\n",
    "print('Summary of feature sample')\n",
    "X.head()"
   ]
  },
  {
   "cell_type": "code",
   "execution_count": 452,
   "id": "f099334d",
   "metadata": {},
   "outputs": [],
   "source": [
    "y = credit['Limit_Bal']"
   ]
  },
  {
   "cell_type": "code",
   "execution_count": 453,
   "id": "19c2325e",
   "metadata": {},
   "outputs": [],
   "source": [
    "model = LinearRegression()"
   ]
  },
  {
   "cell_type": "code",
   "execution_count": 454,
   "id": "7c3aa7e2",
   "metadata": {},
   "outputs": [
    {
     "name": "stdout",
     "output_type": "stream",
     "text": [
      "[0.34765498 0.34489531 0.42749085]\n"
     ]
    }
   ],
   "source": [
    "print(cross_val_score(model, X, y, cv=3)) "
   ]
  },
  {
   "cell_type": "code",
   "execution_count": 455,
   "id": "b2c4a8db",
   "metadata": {},
   "outputs": [],
   "source": [
    "algosClass = []"
   ]
  },
  {
   "cell_type": "code",
   "execution_count": 456,
   "id": "ed6d295c",
   "metadata": {},
   "outputs": [],
   "source": [
    "algosClass.append(('Random Forest Regressor',RandomForestRegressor()))\n",
    "algosClass.append(('Linear Regression',LinearRegression()))\n",
    "algosClass.append(('Support Vector Regression',SVR()))"
   ]
  },
  {
   "cell_type": "code",
   "execution_count": 457,
   "id": "0d4320ac",
   "metadata": {},
   "outputs": [],
   "source": [
    "#regression\n",
    "results = []\n",
    "names = []\n",
    "for name, model in algosClass:\n",
    "    result = cross_val_score(model, X,y, cv=3, scoring='r2')\n",
    "    names.append(name)\n",
    "    results.append(result)"
   ]
  },
  {
   "cell_type": "code",
   "execution_count": 458,
   "id": "d4129f2b",
   "metadata": {},
   "outputs": [
    {
     "name": "stdout",
     "output_type": "stream",
     "text": [
      "Random Forest Regressor 0.4369060312729854\n",
      "Linear Regression 0.3733470445513361\n",
      "Support Vector Regression -0.0395496835037481\n"
     ]
    }
   ],
   "source": [
    "for i in range(len(names)):\n",
    "    print(names[i],results[i].mean())"
   ]
  },
  {
   "cell_type": "code",
   "execution_count": 459,
   "id": "7edfdb0b",
   "metadata": {},
   "outputs": [],
   "source": [
    "#Train/Test Split\n",
    "X_train, X_test, y_train, y_test = train_test_split(X, y, test_size = .30, random_state = 123)"
   ]
  },
  {
   "cell_type": "code",
   "execution_count": 460,
   "id": "f460c482",
   "metadata": {},
   "outputs": [],
   "source": [
    "algo = RandomForestRegressor()"
   ]
  },
  {
   "cell_type": "code",
   "execution_count": 461,
   "id": "ea757722",
   "metadata": {},
   "outputs": [],
   "source": [
    "model = algo.fit(X_train,y_train)"
   ]
  },
  {
   "cell_type": "code",
   "execution_count": 462,
   "id": "38e8113e",
   "metadata": {},
   "outputs": [],
   "source": [
    "predictions = model.predict(X_test)"
   ]
  },
  {
   "cell_type": "code",
   "execution_count": 463,
   "id": "03cce2f7",
   "metadata": {},
   "outputs": [],
   "source": [
    "from sklearn.metrics import mean_squared_error\n",
    "from sklearn.metrics import r2_score"
   ]
  },
  {
   "cell_type": "code",
   "execution_count": 464,
   "id": "4049456c",
   "metadata": {},
   "outputs": [],
   "source": [
    "from math import sqrt"
   ]
  },
  {
   "cell_type": "code",
   "execution_count": 465,
   "id": "58989747",
   "metadata": {},
   "outputs": [],
   "source": [
    "rmse = sqrt(mean_squared_error(y_test, predictions))"
   ]
  },
  {
   "cell_type": "code",
   "execution_count": 466,
   "id": "5543525d",
   "metadata": {},
   "outputs": [],
   "source": [
    "predRsquared = r2_score(y_test,predictions)"
   ]
  },
  {
   "cell_type": "code",
   "execution_count": 467,
   "id": "34d4ce3f",
   "metadata": {},
   "outputs": [
    {
     "name": "stdout",
     "output_type": "stream",
     "text": [
      "R Squared: 0.407\n",
      "RMSE: 99718.415\n"
     ]
    }
   ],
   "source": [
    "#Make Predictions\n",
    "predictions = model.predict(X_test)\n",
    "predRsquared = r2_score(y_test,predictions)\n",
    "rmse = sqrt(mean_squared_error(y_test, predictions))\n",
    "print('R Squared: %.3f' % predRsquared)\n",
    "print('RMSE: %.3f' % rmse)"
   ]
  },
  {
   "cell_type": "code",
   "execution_count": 468,
   "id": "be473798",
   "metadata": {},
   "outputs": [
    {
     "data": {
      "image/png": "[encoded data removed]",
      "text/plain": [
       "<Figure size 432x288 with 1 Axes>"
      ]
     },
     "metadata": {
      "needs_background": "light"
     },
     "output_type": "display_data"
    }
   ],
   "source": [
    "plt.scatter(y_test, predictions, color=['blue'], alpha = 0.5)\n",
    "plt.xlabel('Ground Truth')\n",
    "plt.ylabel('Predictions')\n",
    "plt.show();"
   ]
  },
  {
   "cell_type": "markdown",
   "id": "3a58e8c2",
   "metadata": {},
   "source": [
    "# SWITCHING TO CLASSIFICATION ALGORITHM"
   ]
  },
  {
   "cell_type": "code",
   "execution_count": 469,
   "id": "30b4ac5d",
   "metadata": {},
   "outputs": [
    {
     "name": "stdout",
     "output_type": "stream",
     "text": [
      "Summary of feature sample\n"
     ]
    },
    {
     "data": {
      "text/html": [
       "<div>\n",
       "<style scoped>\n",
       "    .dataframe tbody tr th:only-of-type {\n",
       "        vertical-align: middle;\n",
       "    }\n",
       "\n",
       "    .dataframe tbody tr th {\n",
       "        vertical-align: top;\n",
       "    }\n",
       "\n",
       "    .dataframe thead th {\n",
       "        text-align: right;\n",
       "    }\n",
       "</style>\n",
       "<table border=\"1\" class=\"dataframe\">\n",
       "  <thead>\n",
       "    <tr style=\"text-align: right;\">\n",
       "      <th></th>\n",
       "      <th>Marriage</th>\n",
       "      <th>Sex_female</th>\n",
       "      <th>Sex_male</th>\n",
       "      <th>Education_graduate school</th>\n",
       "      <th>Education_high school</th>\n",
       "      <th>Education_other</th>\n",
       "      <th>Education_university</th>\n",
       "      <th>Default_Status_default</th>\n",
       "    </tr>\n",
       "  </thead>\n",
       "  <tbody>\n",
       "    <tr>\n",
       "      <th>0</th>\n",
       "      <td>1</td>\n",
       "      <td>1</td>\n",
       "      <td>0</td>\n",
       "      <td>0</td>\n",
       "      <td>0</td>\n",
       "      <td>0</td>\n",
       "      <td>1</td>\n",
       "      <td>1</td>\n",
       "    </tr>\n",
       "    <tr>\n",
       "      <th>1</th>\n",
       "      <td>2</td>\n",
       "      <td>1</td>\n",
       "      <td>0</td>\n",
       "      <td>0</td>\n",
       "      <td>0</td>\n",
       "      <td>0</td>\n",
       "      <td>1</td>\n",
       "      <td>1</td>\n",
       "    </tr>\n",
       "    <tr>\n",
       "      <th>2</th>\n",
       "      <td>2</td>\n",
       "      <td>1</td>\n",
       "      <td>0</td>\n",
       "      <td>0</td>\n",
       "      <td>0</td>\n",
       "      <td>0</td>\n",
       "      <td>1</td>\n",
       "      <td>0</td>\n",
       "    </tr>\n",
       "    <tr>\n",
       "      <th>3</th>\n",
       "      <td>1</td>\n",
       "      <td>1</td>\n",
       "      <td>0</td>\n",
       "      <td>0</td>\n",
       "      <td>0</td>\n",
       "      <td>0</td>\n",
       "      <td>1</td>\n",
       "      <td>0</td>\n",
       "    </tr>\n",
       "    <tr>\n",
       "      <th>4</th>\n",
       "      <td>1</td>\n",
       "      <td>0</td>\n",
       "      <td>1</td>\n",
       "      <td>0</td>\n",
       "      <td>0</td>\n",
       "      <td>0</td>\n",
       "      <td>1</td>\n",
       "      <td>0</td>\n",
       "    </tr>\n",
       "  </tbody>\n",
       "</table>\n",
       "</div>"
      ],
      "text/plain": [
       "   Marriage  Sex_female  Sex_male  Education_graduate school  \\\n",
       "0         1           1         0                          0   \n",
       "1         2           1         0                          0   \n",
       "2         2           1         0                          0   \n",
       "3         1           1         0                          0   \n",
       "4         1           0         1                          0   \n",
       "\n",
       "   Education_high school  Education_other  Education_university  \\\n",
       "0                      0                0                     1   \n",
       "1                      0                0                     1   \n",
       "2                      0                0                     1   \n",
       "3                      0                0                     1   \n",
       "4                      0                0                     1   \n",
       "\n",
       "   Default_Status_default  \n",
       "0                       1  \n",
       "1                       1  \n",
       "2                       0  \n",
       "3                       0  \n",
       "4                       0  "
      ]
     },
     "execution_count": 469,
     "metadata": {},
     "output_type": "execute_result"
    }
   ],
   "source": [
    "#Features\n",
    "X = credit.iloc[:, np.r_[1:2, 21:28]]\n",
    "print('Summary of feature sample')\n",
    "X.head()"
   ]
  },
  {
   "cell_type": "code",
   "execution_count": 470,
   "id": "de613b2d",
   "metadata": {},
   "outputs": [],
   "source": [
    "credit['Limit_Bins']=credit['Limit_Bins'].astype('str')"
   ]
  },
  {
   "cell_type": "code",
   "execution_count": 471,
   "id": "a3588b70",
   "metadata": {},
   "outputs": [],
   "source": [
    "y = credit['Limit_Bins']"
   ]
  },
  {
   "cell_type": "code",
   "execution_count": 472,
   "id": "7e611051",
   "metadata": {},
   "outputs": [],
   "source": [
    "#Train/Test Split\n",
    "X_train, X_test, y_train, y_test = train_test_split(X, y, test_size = .30, random_state = 123)"
   ]
  },
  {
   "cell_type": "code",
   "execution_count": 473,
   "id": "409e1c97",
   "metadata": {},
   "outputs": [],
   "source": [
    "#Modeling (Classification)\n",
    "dtalgo = DecisionTreeClassifier()\n",
    "dtmodel = dtalgo.fit(X_train,y_train)"
   ]
  },
  {
   "cell_type": "code",
   "execution_count": 474,
   "id": "2e1346aa",
   "metadata": {},
   "outputs": [],
   "source": [
    "#Predictions\n",
    "preds = dtmodel.predict(X_test)"
   ]
  },
  {
   "cell_type": "code",
   "execution_count": 475,
   "id": "8c89e8f4",
   "metadata": {},
   "outputs": [
    {
     "name": "stdout",
     "output_type": "stream",
     "text": [
      "0         10-50K\n",
      "1       100-150K\n",
      "2        50-100K\n",
      "3         10-50K\n",
      "4         10-50K\n",
      "          ...   \n",
      "2391      10-50K\n",
      "2392      10-50K\n",
      "2393    100-150K\n",
      "2394    100-150K\n",
      "2395    150-200K\n",
      "Name: Limit_Bins, Length: 2396, dtype: object\n"
     ]
    }
   ],
   "source": [
    "#dependent variable\n",
    "print(y)"
   ]
  },
  {
   "cell_type": "code",
   "execution_count": 476,
   "id": "c1069c70",
   "metadata": {},
   "outputs": [
    {
     "name": "stdout",
     "output_type": "stream",
     "text": [
      "              precision    recall  f1-score   support\n",
      "\n",
      "      10-50K       0.30      0.80      0.43       173\n",
      "    100-150K       0.33      0.01      0.02       104\n",
      "         10K       0.00      0.00      0.00         7\n",
      "    150-200K       0.07      0.08      0.07        90\n",
      "    200-250K       0.00      0.00      0.00        87\n",
      "    250-300K       0.00      0.00      0.00        46\n",
      "       300K+       0.25      0.37      0.30       102\n",
      "     50-100K       0.00      0.00      0.00       109\n",
      "         nan       0.00      0.00      0.00         1\n",
      "\n",
      "    accuracy                           0.26       719\n",
      "   macro avg       0.11      0.14      0.09       719\n",
      "weighted avg       0.16      0.26      0.16       719\n",
      "\n"
     ]
    },
    {
     "name": "stderr",
     "output_type": "stream",
     "text": [
      "C:\\Users\\dfish\\anaconda3\\envs\\DataScience\\lib\\site-packages\\sklearn\\metrics\\_classification.py:1318: UndefinedMetricWarning: Precision and F-score are ill-defined and being set to 0.0 in labels with no predicted samples. Use `zero_division` parameter to control this behavior.\n",
      "  _warn_prf(average, modifier, msg_start, len(result))\n",
      "C:\\Users\\dfish\\anaconda3\\envs\\DataScience\\lib\\site-packages\\sklearn\\metrics\\_classification.py:1318: UndefinedMetricWarning: Precision and F-score are ill-defined and being set to 0.0 in labels with no predicted samples. Use `zero_division` parameter to control this behavior.\n",
      "  _warn_prf(average, modifier, msg_start, len(result))\n",
      "C:\\Users\\dfish\\anaconda3\\envs\\DataScience\\lib\\site-packages\\sklearn\\metrics\\_classification.py:1318: UndefinedMetricWarning: Precision and F-score are ill-defined and being set to 0.0 in labels with no predicted samples. Use `zero_division` parameter to control this behavior.\n",
      "  _warn_prf(average, modifier, msg_start, len(result))\n"
     ]
    }
   ],
   "source": [
    "print(classification_report(y_test, preds))"
   ]
  },
  {
   "cell_type": "code",
   "execution_count": 477,
   "id": "2a2a5a04",
   "metadata": {},
   "outputs": [],
   "source": [
    "from sklearn.tree import plot_tree"
   ]
  },
  {
   "cell_type": "code",
   "execution_count": 478,
   "id": "9047123a",
   "metadata": {},
   "outputs": [],
   "source": [
    "#fig = plt.figure(figsize=(25,20), dpi=250)\n",
    "#tree = plot_tree(dtmodel, fontsize=12, feature_names=X.columns,class_names=['10K','10-50K', '50-100K', '100-150K', '150-200K', '200-250K', '250-300K', '300K+'], max_depth=7, filled=True)"
   ]
  },
  {
   "cell_type": "markdown",
   "id": "f1fa1da2",
   "metadata": {},
   "source": [
    "# SWITCHING INDEPENDENT VARIABLE TO DEFAULT STATUS"
   ]
  },
  {
   "cell_type": "code",
   "execution_count": 479,
   "id": "d9a417c4",
   "metadata": {},
   "outputs": [
    {
     "name": "stdout",
     "output_type": "stream",
     "text": [
      "Summary of feature sample\n"
     ]
    },
    {
     "data": {
      "text/html": [
       "<div>\n",
       "<style scoped>\n",
       "    .dataframe tbody tr th:only-of-type {\n",
       "        vertical-align: middle;\n",
       "    }\n",
       "\n",
       "    .dataframe tbody tr th {\n",
       "        vertical-align: top;\n",
       "    }\n",
       "\n",
       "    .dataframe thead th {\n",
       "        text-align: right;\n",
       "    }\n",
       "</style>\n",
       "<table border=\"1\" class=\"dataframe\">\n",
       "  <thead>\n",
       "    <tr style=\"text-align: right;\">\n",
       "      <th></th>\n",
       "      <th>Marriage</th>\n",
       "      <th>Age</th>\n",
       "      <th>Status_Sept</th>\n",
       "      <th>Status_Aug</th>\n",
       "      <th>Status_Jul</th>\n",
       "      <th>Status_Jun</th>\n",
       "      <th>Status_May</th>\n",
       "      <th>Status_Apr</th>\n",
       "      <th>Bill_Sept</th>\n",
       "      <th>Bill_Aug</th>\n",
       "      <th>...</th>\n",
       "      <th>Pay_Aug</th>\n",
       "      <th>Pay_Jul</th>\n",
       "      <th>Pay_Jun</th>\n",
       "      <th>Pay_May</th>\n",
       "      <th>Pay_Apr</th>\n",
       "      <th>Sex_female</th>\n",
       "      <th>Sex_male</th>\n",
       "      <th>Education_graduate school</th>\n",
       "      <th>Education_high school</th>\n",
       "      <th>Education_other</th>\n",
       "    </tr>\n",
       "  </thead>\n",
       "  <tbody>\n",
       "    <tr>\n",
       "      <th>0</th>\n",
       "      <td>1</td>\n",
       "      <td>24</td>\n",
       "      <td>2</td>\n",
       "      <td>2</td>\n",
       "      <td>-1</td>\n",
       "      <td>-1</td>\n",
       "      <td>-2</td>\n",
       "      <td>-2</td>\n",
       "      <td>3913</td>\n",
       "      <td>3102</td>\n",
       "      <td>...</td>\n",
       "      <td>689</td>\n",
       "      <td>0</td>\n",
       "      <td>0</td>\n",
       "      <td>0</td>\n",
       "      <td>0</td>\n",
       "      <td>1</td>\n",
       "      <td>0</td>\n",
       "      <td>0</td>\n",
       "      <td>0</td>\n",
       "      <td>0</td>\n",
       "    </tr>\n",
       "    <tr>\n",
       "      <th>1</th>\n",
       "      <td>2</td>\n",
       "      <td>26</td>\n",
       "      <td>-1</td>\n",
       "      <td>2</td>\n",
       "      <td>0</td>\n",
       "      <td>0</td>\n",
       "      <td>0</td>\n",
       "      <td>2</td>\n",
       "      <td>2682</td>\n",
       "      <td>1725</td>\n",
       "      <td>...</td>\n",
       "      <td>1000</td>\n",
       "      <td>1000</td>\n",
       "      <td>1000</td>\n",
       "      <td>0</td>\n",
       "      <td>2000</td>\n",
       "      <td>1</td>\n",
       "      <td>0</td>\n",
       "      <td>0</td>\n",
       "      <td>0</td>\n",
       "      <td>0</td>\n",
       "    </tr>\n",
       "    <tr>\n",
       "      <th>2</th>\n",
       "      <td>2</td>\n",
       "      <td>34</td>\n",
       "      <td>0</td>\n",
       "      <td>0</td>\n",
       "      <td>0</td>\n",
       "      <td>0</td>\n",
       "      <td>0</td>\n",
       "      <td>0</td>\n",
       "      <td>29239</td>\n",
       "      <td>14027</td>\n",
       "      <td>...</td>\n",
       "      <td>1500</td>\n",
       "      <td>1000</td>\n",
       "      <td>1000</td>\n",
       "      <td>1000</td>\n",
       "      <td>5000</td>\n",
       "      <td>1</td>\n",
       "      <td>0</td>\n",
       "      <td>0</td>\n",
       "      <td>0</td>\n",
       "      <td>0</td>\n",
       "    </tr>\n",
       "    <tr>\n",
       "      <th>3</th>\n",
       "      <td>1</td>\n",
       "      <td>37</td>\n",
       "      <td>0</td>\n",
       "      <td>0</td>\n",
       "      <td>0</td>\n",
       "      <td>0</td>\n",
       "      <td>0</td>\n",
       "      <td>0</td>\n",
       "      <td>46990</td>\n",
       "      <td>48233</td>\n",
       "      <td>...</td>\n",
       "      <td>2019</td>\n",
       "      <td>1200</td>\n",
       "      <td>1100</td>\n",
       "      <td>1069</td>\n",
       "      <td>1000</td>\n",
       "      <td>1</td>\n",
       "      <td>0</td>\n",
       "      <td>0</td>\n",
       "      <td>0</td>\n",
       "      <td>0</td>\n",
       "    </tr>\n",
       "    <tr>\n",
       "      <th>4</th>\n",
       "      <td>1</td>\n",
       "      <td>57</td>\n",
       "      <td>-1</td>\n",
       "      <td>0</td>\n",
       "      <td>-1</td>\n",
       "      <td>0</td>\n",
       "      <td>0</td>\n",
       "      <td>0</td>\n",
       "      <td>8617</td>\n",
       "      <td>5670</td>\n",
       "      <td>...</td>\n",
       "      <td>36681</td>\n",
       "      <td>10000</td>\n",
       "      <td>9000</td>\n",
       "      <td>689</td>\n",
       "      <td>679</td>\n",
       "      <td>0</td>\n",
       "      <td>1</td>\n",
       "      <td>0</td>\n",
       "      <td>0</td>\n",
       "      <td>0</td>\n",
       "    </tr>\n",
       "  </tbody>\n",
       "</table>\n",
       "<p>5 rows × 25 columns</p>\n",
       "</div>"
      ],
      "text/plain": [
       "   Marriage  Age  Status_Sept  Status_Aug  Status_Jul  Status_Jun  Status_May  \\\n",
       "0         1   24            2           2          -1          -1          -2   \n",
       "1         2   26           -1           2           0           0           0   \n",
       "2         2   34            0           0           0           0           0   \n",
       "3         1   37            0           0           0           0           0   \n",
       "4         1   57           -1           0          -1           0           0   \n",
       "\n",
       "   Status_Apr  Bill_Sept  Bill_Aug  ...  Pay_Aug  Pay_Jul  Pay_Jun  Pay_May  \\\n",
       "0          -2       3913      3102  ...      689        0        0        0   \n",
       "1           2       2682      1725  ...     1000     1000     1000        0   \n",
       "2           0      29239     14027  ...     1500     1000     1000     1000   \n",
       "3           0      46990     48233  ...     2019     1200     1100     1069   \n",
       "4           0       8617      5670  ...    36681    10000     9000      689   \n",
       "\n",
       "   Pay_Apr  Sex_female  Sex_male  Education_graduate school  \\\n",
       "0        0           1         0                          0   \n",
       "1     2000           1         0                          0   \n",
       "2     5000           1         0                          0   \n",
       "3     1000           1         0                          0   \n",
       "4      679           0         1                          0   \n",
       "\n",
       "   Education_high school  Education_other  \n",
       "0                      0                0  \n",
       "1                      0                0  \n",
       "2                      0                0  \n",
       "3                      0                0  \n",
       "4                      0                0  \n",
       "\n",
       "[5 rows x 25 columns]"
      ]
     },
     "execution_count": 479,
     "metadata": {},
     "output_type": "execute_result"
    }
   ],
   "source": [
    "X = credit.iloc[:, 1:26]\n",
    "print('Summary of feature sample')\n",
    "X.head()"
   ]
  },
  {
   "cell_type": "code",
   "execution_count": 480,
   "id": "748b2893",
   "metadata": {},
   "outputs": [],
   "source": [
    "y = credit['Default_Status_default']"
   ]
  },
  {
   "cell_type": "code",
   "execution_count": 481,
   "id": "6a4343f5",
   "metadata": {},
   "outputs": [
    {
     "name": "stdout",
     "output_type": "stream",
     "text": [
      "0       1\n",
      "1       1\n",
      "2       0\n",
      "3       0\n",
      "4       0\n",
      "       ..\n",
      "2391    1\n",
      "2392    0\n",
      "2393    0\n",
      "2394    0\n",
      "2395    0\n",
      "Name: Default_Status_default, Length: 2396, dtype: int64\n"
     ]
    }
   ],
   "source": [
    "#dependent variable\n",
    "print(y)"
   ]
  },
  {
   "cell_type": "code",
   "execution_count": 482,
   "id": "454b28fb",
   "metadata": {},
   "outputs": [],
   "source": [
    "#Train/Test Split\n",
    "X_train, X_test, y_train, y_test = train_test_split(X, y, test_size = .30, random_state = 123)"
   ]
  },
  {
   "cell_type": "code",
   "execution_count": 483,
   "id": "3793cde6",
   "metadata": {},
   "outputs": [],
   "source": [
    "#Modeling (Classification)\n",
    "dtalgo1 = DecisionTreeClassifier()\n",
    "dtmodel1 = dtalgo1.fit(X_train,y_train)"
   ]
  },
  {
   "cell_type": "code",
   "execution_count": 484,
   "id": "8da3483c",
   "metadata": {},
   "outputs": [],
   "source": [
    "#Predictions\n",
    "preds = dtmodel1.predict(X_test)"
   ]
  },
  {
   "cell_type": "code",
   "execution_count": 485,
   "id": "6344982a",
   "metadata": {},
   "outputs": [
    {
     "name": "stdout",
     "output_type": "stream",
     "text": [
      "              precision    recall  f1-score   support\n",
      "\n",
      "           0       0.84      0.81      0.82       572\n",
      "           1       0.34      0.38      0.36       147\n",
      "\n",
      "    accuracy                           0.72       719\n",
      "   macro avg       0.59      0.60      0.59       719\n",
      "weighted avg       0.73      0.72      0.73       719\n",
      "\n"
     ]
    }
   ],
   "source": [
    "print(classification_report(y_test, preds))"
   ]
  },
  {
   "cell_type": "code",
   "execution_count": 486,
   "id": "f1c5ddb1",
   "metadata": {},
   "outputs": [],
   "source": [
    "cross_model = DecisionTreeClassifier()"
   ]
  },
  {
   "cell_type": "code",
   "execution_count": 487,
   "id": "0f1ea47f",
   "metadata": {},
   "outputs": [
    {
     "name": "stdout",
     "output_type": "stream",
     "text": [
      "[0.72715895 0.69837297 0.71303258]\n"
     ]
    }
   ],
   "source": [
    "print(cross_val_score(cross_model, X, y, cv = 3))"
   ]
  },
  {
   "cell_type": "code",
   "execution_count": 488,
   "id": "bf24c3c4",
   "metadata": {},
   "outputs": [
    {
     "name": "stdout",
     "output_type": "stream",
     "text": [
      "              precision    recall  f1-score   support\n",
      "\n",
      "           0       0.84      0.96      0.90       572\n",
      "           1       0.67      0.29      0.40       147\n",
      "\n",
      "    accuracy                           0.82       719\n",
      "   macro avg       0.75      0.62      0.65       719\n",
      "weighted avg       0.80      0.82      0.80       719\n",
      "\n"
     ]
    }
   ],
   "source": [
    "dtalgo2= RandomForestClassifier(max_depth=20, )\n",
    "model_credit = dtalgo2.fit(X_train,y_train)\n",
    "#Predictions\n",
    "preds_credit= model_credit.predict(X_test)\n",
    "print(classification_report(y_test, preds_credit))"
   ]
  },
  {
   "cell_type": "code",
   "execution_count": 489,
   "id": "d64b367d",
   "metadata": {},
   "outputs": [],
   "source": [
    "cross_model2 = RandomForestClassifier()"
   ]
  },
  {
   "cell_type": "code",
   "execution_count": 490,
   "id": "1bbb1d5e",
   "metadata": {},
   "outputs": [
    {
     "name": "stdout",
     "output_type": "stream",
     "text": [
      "[0.79974969 0.78848561 0.80325815]\n"
     ]
    }
   ],
   "source": [
    "print(cross_val_score(cross_model2, X, y, cv = 3))"
   ]
  },
  {
   "cell_type": "code",
   "execution_count": 491,
   "id": "b62da059",
   "metadata": {},
   "outputs": [
    {
     "name": "stdout",
     "output_type": "stream",
     "text": [
      "              precision    recall  f1-score   support\n",
      "\n",
      "           0       0.84      0.96      0.90       572\n",
      "           1       0.64      0.31      0.41       147\n",
      "\n",
      "    accuracy                           0.82       719\n",
      "   macro avg       0.74      0.63      0.66       719\n",
      "weighted avg       0.80      0.82      0.80       719\n",
      "\n"
     ]
    }
   ],
   "source": [
    "dtalgo3= GradientBoostingClassifier()\n",
    "model_credit = dtalgo3.fit(X_train,y_train)\n",
    "#Predictions\n",
    "preds_credit= model_credit.predict(X_test)\n",
    "print(classification_report(y_test, preds_credit))"
   ]
  },
  {
   "cell_type": "code",
   "execution_count": 492,
   "id": "394b78ec",
   "metadata": {},
   "outputs": [],
   "source": [
    "cross_model3 = GradientBoostingClassifier()"
   ]
  },
  {
   "cell_type": "code",
   "execution_count": 493,
   "id": "9f059cae",
   "metadata": {},
   "outputs": [
    {
     "name": "stdout",
     "output_type": "stream",
     "text": [
      "[0.80475594 0.79974969 0.81578947]\n"
     ]
    }
   ],
   "source": [
    "print(cross_val_score(cross_model3, X, y, cv = 3))"
   ]
  },
  {
   "cell_type": "code",
   "execution_count": 494,
   "id": "eb381b78",
   "metadata": {},
   "outputs": [],
   "source": [
    "algos_Class = []\n",
    "algos_Class.append(('Random Forest Classifier', RandomForestClassifier()))\n",
    "algos_Class.append(('Decision Tree Classifier', DecisionTreeClassifier()))\n",
    "algos_Class.append(('GradientBoostingClassifier', GradientBoostingClassifier()))"
   ]
  },
  {
   "cell_type": "code",
   "execution_count": 495,
   "id": "2f0f43fc",
   "metadata": {},
   "outputs": [],
   "source": [
    "results = []\n",
    "names = []\n",
    "for name, cross_model in algos_Class:\n",
    "        result = cross_val_score(cross_model, X, y, cv = 3,\n",
    "    scoring = 'accuracy')\n",
    "        names.append(name)\n",
    "        results.append(result)"
   ]
  },
  {
   "cell_type": "code",
   "execution_count": 496,
   "id": "f8655618",
   "metadata": {},
   "outputs": [
    {
     "name": "stdout",
     "output_type": "stream",
     "text": [
      "Random Forest Classifier\n",
      "0.7975785312258535\n",
      "Decision Tree Classifier\n",
      "0.7232866270808436\n",
      "GradientBoostingClassifier\n",
      "0.8059306589377072\n"
     ]
    }
   ],
   "source": [
    "for i in range(len(names)):\n",
    "    print(names[i])\n",
    "    print(results[i].mean())"
   ]
  },
  {
   "cell_type": "markdown",
   "id": "d0dec13b",
   "metadata": {},
   "source": [
    "## THE ABOVE GRADIENT BOOSTING CLASSIFIER CAN PREDICT DEFAULT STATUS BASED ON THE SELECTED FEATURES WITH AN ACCURACY OF ROUGHLY 80%"
   ]
  },
  {
   "cell_type": "markdown",
   "id": "37e6554d",
   "metadata": {},
   "source": [
    "# BUILDING CLASSIFICATIOM MODELS USING BINNED LIMIT BALANCE"
   ]
  },
  {
   "cell_type": "code",
   "execution_count": 500,
   "id": "1d7f4ab8",
   "metadata": {},
   "outputs": [
    {
     "name": "stdout",
     "output_type": "stream",
     "text": [
      "Summary of feature sample\n"
     ]
    },
    {
     "data": {
      "text/html": [
       "<div>\n",
       "<style scoped>\n",
       "    .dataframe tbody tr th:only-of-type {\n",
       "        vertical-align: middle;\n",
       "    }\n",
       "\n",
       "    .dataframe tbody tr th {\n",
       "        vertical-align: top;\n",
       "    }\n",
       "\n",
       "    .dataframe thead th {\n",
       "        text-align: right;\n",
       "    }\n",
       "</style>\n",
       "<table border=\"1\" class=\"dataframe\">\n",
       "  <thead>\n",
       "    <tr style=\"text-align: right;\">\n",
       "      <th></th>\n",
       "      <th>Marriage</th>\n",
       "      <th>Age</th>\n",
       "      <th>Status_Sept</th>\n",
       "      <th>Status_Aug</th>\n",
       "      <th>Status_Jul</th>\n",
       "      <th>Status_Jun</th>\n",
       "      <th>Status_May</th>\n",
       "      <th>Status_Apr</th>\n",
       "      <th>Bill_Sept</th>\n",
       "      <th>Bill_Aug</th>\n",
       "      <th>...</th>\n",
       "      <th>Pay_Jun</th>\n",
       "      <th>Pay_May</th>\n",
       "      <th>Pay_Apr</th>\n",
       "      <th>Sex_female</th>\n",
       "      <th>Sex_male</th>\n",
       "      <th>Education_graduate school</th>\n",
       "      <th>Education_high school</th>\n",
       "      <th>Education_other</th>\n",
       "      <th>Education_university</th>\n",
       "      <th>Default_Status_default</th>\n",
       "    </tr>\n",
       "  </thead>\n",
       "  <tbody>\n",
       "    <tr>\n",
       "      <th>0</th>\n",
       "      <td>1</td>\n",
       "      <td>24</td>\n",
       "      <td>2</td>\n",
       "      <td>2</td>\n",
       "      <td>-1</td>\n",
       "      <td>-1</td>\n",
       "      <td>-2</td>\n",
       "      <td>-2</td>\n",
       "      <td>3913</td>\n",
       "      <td>3102</td>\n",
       "      <td>...</td>\n",
       "      <td>0</td>\n",
       "      <td>0</td>\n",
       "      <td>0</td>\n",
       "      <td>1</td>\n",
       "      <td>0</td>\n",
       "      <td>0</td>\n",
       "      <td>0</td>\n",
       "      <td>0</td>\n",
       "      <td>1</td>\n",
       "      <td>1</td>\n",
       "    </tr>\n",
       "    <tr>\n",
       "      <th>1</th>\n",
       "      <td>2</td>\n",
       "      <td>26</td>\n",
       "      <td>-1</td>\n",
       "      <td>2</td>\n",
       "      <td>0</td>\n",
       "      <td>0</td>\n",
       "      <td>0</td>\n",
       "      <td>2</td>\n",
       "      <td>2682</td>\n",
       "      <td>1725</td>\n",
       "      <td>...</td>\n",
       "      <td>1000</td>\n",
       "      <td>0</td>\n",
       "      <td>2000</td>\n",
       "      <td>1</td>\n",
       "      <td>0</td>\n",
       "      <td>0</td>\n",
       "      <td>0</td>\n",
       "      <td>0</td>\n",
       "      <td>1</td>\n",
       "      <td>1</td>\n",
       "    </tr>\n",
       "    <tr>\n",
       "      <th>2</th>\n",
       "      <td>2</td>\n",
       "      <td>34</td>\n",
       "      <td>0</td>\n",
       "      <td>0</td>\n",
       "      <td>0</td>\n",
       "      <td>0</td>\n",
       "      <td>0</td>\n",
       "      <td>0</td>\n",
       "      <td>29239</td>\n",
       "      <td>14027</td>\n",
       "      <td>...</td>\n",
       "      <td>1000</td>\n",
       "      <td>1000</td>\n",
       "      <td>5000</td>\n",
       "      <td>1</td>\n",
       "      <td>0</td>\n",
       "      <td>0</td>\n",
       "      <td>0</td>\n",
       "      <td>0</td>\n",
       "      <td>1</td>\n",
       "      <td>0</td>\n",
       "    </tr>\n",
       "    <tr>\n",
       "      <th>3</th>\n",
       "      <td>1</td>\n",
       "      <td>37</td>\n",
       "      <td>0</td>\n",
       "      <td>0</td>\n",
       "      <td>0</td>\n",
       "      <td>0</td>\n",
       "      <td>0</td>\n",
       "      <td>0</td>\n",
       "      <td>46990</td>\n",
       "      <td>48233</td>\n",
       "      <td>...</td>\n",
       "      <td>1100</td>\n",
       "      <td>1069</td>\n",
       "      <td>1000</td>\n",
       "      <td>1</td>\n",
       "      <td>0</td>\n",
       "      <td>0</td>\n",
       "      <td>0</td>\n",
       "      <td>0</td>\n",
       "      <td>1</td>\n",
       "      <td>0</td>\n",
       "    </tr>\n",
       "    <tr>\n",
       "      <th>4</th>\n",
       "      <td>1</td>\n",
       "      <td>57</td>\n",
       "      <td>-1</td>\n",
       "      <td>0</td>\n",
       "      <td>-1</td>\n",
       "      <td>0</td>\n",
       "      <td>0</td>\n",
       "      <td>0</td>\n",
       "      <td>8617</td>\n",
       "      <td>5670</td>\n",
       "      <td>...</td>\n",
       "      <td>9000</td>\n",
       "      <td>689</td>\n",
       "      <td>679</td>\n",
       "      <td>0</td>\n",
       "      <td>1</td>\n",
       "      <td>0</td>\n",
       "      <td>0</td>\n",
       "      <td>0</td>\n",
       "      <td>1</td>\n",
       "      <td>0</td>\n",
       "    </tr>\n",
       "  </tbody>\n",
       "</table>\n",
       "<p>5 rows × 27 columns</p>\n",
       "</div>"
      ],
      "text/plain": [
       "   Marriage  Age  Status_Sept  Status_Aug  Status_Jul  Status_Jun  Status_May  \\\n",
       "0         1   24            2           2          -1          -1          -2   \n",
       "1         2   26           -1           2           0           0           0   \n",
       "2         2   34            0           0           0           0           0   \n",
       "3         1   37            0           0           0           0           0   \n",
       "4         1   57           -1           0          -1           0           0   \n",
       "\n",
       "   Status_Apr  Bill_Sept  Bill_Aug  ...  Pay_Jun  Pay_May  Pay_Apr  \\\n",
       "0          -2       3913      3102  ...        0        0        0   \n",
       "1           2       2682      1725  ...     1000        0     2000   \n",
       "2           0      29239     14027  ...     1000     1000     5000   \n",
       "3           0      46990     48233  ...     1100     1069     1000   \n",
       "4           0       8617      5670  ...     9000      689      679   \n",
       "\n",
       "   Sex_female  Sex_male  Education_graduate school  Education_high school  \\\n",
       "0           1         0                          0                      0   \n",
       "1           1         0                          0                      0   \n",
       "2           1         0                          0                      0   \n",
       "3           1         0                          0                      0   \n",
       "4           0         1                          0                      0   \n",
       "\n",
       "   Education_other  Education_university  Default_Status_default  \n",
       "0                0                     1                       1  \n",
       "1                0                     1                       1  \n",
       "2                0                     1                       0  \n",
       "3                0                     1                       0  \n",
       "4                0                     1                       0  \n",
       "\n",
       "[5 rows x 27 columns]"
      ]
     },
     "execution_count": 500,
     "metadata": {},
     "output_type": "execute_result"
    }
   ],
   "source": [
    "X = credit.iloc[:, 1:28]\n",
    "print('Summary of feature sample')\n",
    "X.head()"
   ]
  },
  {
   "cell_type": "code",
   "execution_count": 501,
   "id": "8eba7ed1",
   "metadata": {},
   "outputs": [],
   "source": [
    "y = credit['Limit_Bins']"
   ]
  },
  {
   "cell_type": "code",
   "execution_count": 502,
   "id": "93c493ac",
   "metadata": {},
   "outputs": [],
   "source": [
    "#Train/Test Split\n",
    "X_train, X_test, y_train, y_test = train_test_split(X, y, test_size = .30, random_state = 123)"
   ]
  },
  {
   "cell_type": "code",
   "execution_count": 503,
   "id": "c196ddcd",
   "metadata": {},
   "outputs": [
    {
     "name": "stdout",
     "output_type": "stream",
     "text": [
      "              precision    recall  f1-score   support\n",
      "\n",
      "      10-50K       0.57      0.54      0.56       173\n",
      "    100-150K       0.25      0.22      0.23       104\n",
      "         10K       0.29      0.57      0.38         7\n",
      "    150-200K       0.13      0.16      0.14        90\n",
      "    200-250K       0.11      0.08      0.09        87\n",
      "    250-300K       0.17      0.17      0.17        46\n",
      "       300K+       0.27      0.28      0.27       102\n",
      "     50-100K       0.36      0.39      0.38       109\n",
      "         nan       0.00      0.00      0.00         1\n",
      "\n",
      "    accuracy                           0.31       719\n",
      "   macro avg       0.24      0.27      0.25       719\n",
      "weighted avg       0.31      0.31      0.31       719\n",
      "\n"
     ]
    },
    {
     "name": "stderr",
     "output_type": "stream",
     "text": [
      "C:\\Users\\dfish\\anaconda3\\envs\\DataScience\\lib\\site-packages\\sklearn\\metrics\\_classification.py:1318: UndefinedMetricWarning: Precision and F-score are ill-defined and being set to 0.0 in labels with no predicted samples. Use `zero_division` parameter to control this behavior.\n",
      "  _warn_prf(average, modifier, msg_start, len(result))\n",
      "C:\\Users\\dfish\\anaconda3\\envs\\DataScience\\lib\\site-packages\\sklearn\\metrics\\_classification.py:1318: UndefinedMetricWarning: Precision and F-score are ill-defined and being set to 0.0 in labels with no predicted samples. Use `zero_division` parameter to control this behavior.\n",
      "  _warn_prf(average, modifier, msg_start, len(result))\n",
      "C:\\Users\\dfish\\anaconda3\\envs\\DataScience\\lib\\site-packages\\sklearn\\metrics\\_classification.py:1318: UndefinedMetricWarning: Precision and F-score are ill-defined and being set to 0.0 in labels with no predicted samples. Use `zero_division` parameter to control this behavior.\n",
      "  _warn_prf(average, modifier, msg_start, len(result))\n"
     ]
    }
   ],
   "source": [
    "LBalgo1 = DecisionTreeClassifier()\n",
    "LBmodel = LBalgo1.fit(X_train,y_train)\n",
    "preds = LBalgo1.predict(X_test)\n",
    "print(classification_report(y_test, preds))"
   ]
  },
  {
   "cell_type": "code",
   "execution_count": 504,
   "id": "25cfe90e",
   "metadata": {},
   "outputs": [
    {
     "name": "stderr",
     "output_type": "stream",
     "text": [
      "C:\\Users\\dfish\\anaconda3\\envs\\DataScience\\lib\\site-packages\\sklearn\\model_selection\\_split.py:676: UserWarning: The least populated class in y has only 1 members, which is less than n_splits=3.\n",
      "  warnings.warn(\n"
     ]
    },
    {
     "name": "stdout",
     "output_type": "stream",
     "text": [
      "[0.42302879 0.44305382 0.42105263]\n"
     ]
    }
   ],
   "source": [
    "cross_model4 = DecisionTreeClassifier()\n",
    "print(cross_val_score(cross_model3, X, y, cv = 3))"
   ]
  },
  {
   "cell_type": "markdown",
   "id": "ca9e8160",
   "metadata": {},
   "source": [
    "# I HAVE DETERMINED THAT THE GRADIENT BOOSTING CLASSIFICATION ALGORITHM IS THE BEST PREDICTIVE MODEL FOR THIS PROBLEM WITH 80% ACCURACY"
   ]
  },
  {
   "cell_type": "code",
   "execution_count": null,
   "id": "d82fb773",
   "metadata": {},
   "outputs": [],
   "source": []
  }
 ],
 "metadata": {
  "kernelspec": {
   "display_name": "Python 3 (ipykernel)",
   "language": "python",
   "name": "python3"
  },
  "language_info": {
   "codemirror_mode": {
    "name": "ipython",
    "version": 3
   },
   "file_extension": ".py",
   "mimetype": "text/x-python",
   "name": "python",
   "nbconvert_exporter": "python",
   "pygments_lexer": "ipython3",
   "version": "3.10.4"
  }
 },
 "nbformat": 4,
 "nbformat_minor": 5
}
